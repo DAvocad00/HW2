{
 "cells": [
  {
   "attachments": {},
   "cell_type": "markdown",
   "metadata": {
    "collapsed": false
   },
   "source": [
    "\n",
    "# Задание:\n",
    "----\n",
    "\n",
    "<br>\n",
    "\n",
    "Вам предоставлен анонимизированные результаты **реального A/B тестирования**, проходившего когда-то в нашем отделе (`ab_test_ensembles.csv`). В тесте было два варианта работы сервиса - `standard` и `svm_ensemble_v_1_22`, где работали несколько моделей классификации для целей сервиса.\n",
    "\n",
    "<br>\n",
    "\n",
    "\n",
    "------\n",
    "Вам, как специалистам по машинному обучению предстоит ответить на **2 главных вопроса:**\n",
    "\n",
    "1. Стоит ли нам оставить старый вариант работы сервиса или заменить его на вариант работы с моделями классификации (используем всю выборку 200к+ пользователей).\n",
    "2. Кроме того, посчитайте вывод для типа пользователей (`user_type`). Стоит ли для новых (старых) пользователей оставить старый (новый) вариант работы сервиса.\n",
    "\n",
    "\n",
    "<br>\n",
    "\n",
    "Для того, чтобы освежить в памяти процесс тестирования статистических гипотез, непомню, что тестирование состоит из следующих частей:\n",
    "1. Дизайн эксперимента.\n",
    "2. Подготовка и запуск эксперимента.\n",
    "3. Сбор данных и аналитика полученных данных.\n",
    "4. Визуализация результатов тестирования.\n",
    "5. Тестирование гипотез.\n",
    "6. Вывод и интерпритация результатов.\n",
    "\n",
    "-----\n",
    "\n",
    "#### Критерии оценки задания:\n",
    "\n",
    "1. **Первое, что будет проверяться - вывод полученных результатов**, в случае если выводы сделаны не правильно, задание считается проваленным и на этом этап проверки заканчивается (пропускаются этапы код-ревью, оформления и визуализации, качество кода).\n",
    "2. В случае если результаты и интерпритация результатов оказались верны, проводится код-ревью и проверка этапа визуализаций, поиск проблемных точек, точек роста.\n",
    "3. **Максимальный балл** который можно получить, выполнив текущее задание: **2 балла за 1 вопрос, 2 балла за 2 вопрос и 1 балл за эффективный и аккуратный код.\n",
    "\n",
    "\n",
    "Удачи, примените все свои навыки, которые вам доступны на данный момент и покажите на что вы способны!"
   ]
  },
  {
   "cell_type": "code",
   "execution_count": 298,
   "metadata": {
    "collapsed": false
   },
   "outputs": [],
   "source": [
    "import pandas as pd\n",
    "import numpy as np\n",
    "import pylab\n",
    "import matplotlib.pyplot as plt\n",
    "import seaborn as sns\n",
    "\n",
    "import warnings\n",
    "\n",
    "warnings.filterwarnings(\"ignore\")\n",
    "np.random.seed(42)"
   ]
  },
  {
   "attachments": {},
   "cell_type": "markdown",
   "metadata": {},
   "source": [
    "<div align=\"center\"> <font size=\"5\"> <b>A/B testing all data</b> </div>"
   ]
  },
  {
   "cell_type": "code",
   "execution_count": 299,
   "metadata": {},
   "outputs": [],
   "source": [
    "data = pd.read_csv('ab_test_ensembles.csv')"
   ]
  },
  {
   "cell_type": "code",
   "execution_count": 300,
   "metadata": {},
   "outputs": [
    {
     "data": {
      "text/html": [
       "<div>\n",
       "<style scoped>\n",
       "    .dataframe tbody tr th:only-of-type {\n",
       "        vertical-align: middle;\n",
       "    }\n",
       "\n",
       "    .dataframe tbody tr th {\n",
       "        vertical-align: top;\n",
       "    }\n",
       "\n",
       "    .dataframe thead th {\n",
       "        text-align: right;\n",
       "    }\n",
       "</style>\n",
       "<table border=\"1\" class=\"dataframe\">\n",
       "  <thead>\n",
       "    <tr style=\"text-align: right;\">\n",
       "      <th></th>\n",
       "      <th>user_id</th>\n",
       "      <th>timestamp</th>\n",
       "      <th>group</th>\n",
       "      <th>variants</th>\n",
       "      <th>converted</th>\n",
       "      <th>location</th>\n",
       "      <th>age_group</th>\n",
       "      <th>user_type</th>\n",
       "    </tr>\n",
       "  </thead>\n",
       "  <tbody>\n",
       "    <tr>\n",
       "      <th>0</th>\n",
       "      <td>9109b0dc-d393-497f-8d63-ba9a25dd16b4</td>\n",
       "      <td>2022-05-21 22:11:48.556739</td>\n",
       "      <td>control</td>\n",
       "      <td>standard</td>\n",
       "      <td>0</td>\n",
       "      <td>United Kingdom</td>\n",
       "      <td>18-25</td>\n",
       "      <td>registered_user</td>\n",
       "    </tr>\n",
       "    <tr>\n",
       "      <th>1</th>\n",
       "      <td>2430c3d2-f75b-4b31-8271-51b6a76c2652</td>\n",
       "      <td>2022-05-12 08:01:45.159739</td>\n",
       "      <td>control</td>\n",
       "      <td>standard</td>\n",
       "      <td>0</td>\n",
       "      <td>United Kingdom</td>\n",
       "      <td>42-49</td>\n",
       "      <td>registered_user</td>\n",
       "    </tr>\n",
       "    <tr>\n",
       "      <th>2</th>\n",
       "      <td>44788c4e-8dd2-4fad-b986-75e76f4adb64</td>\n",
       "      <td>2022-05-11 16:55:06.154213</td>\n",
       "      <td>treatment</td>\n",
       "      <td>svm_ensemble_v_1_22</td>\n",
       "      <td>0</td>\n",
       "      <td>United Kingdom</td>\n",
       "      <td>26-33</td>\n",
       "      <td>new_user</td>\n",
       "    </tr>\n",
       "    <tr>\n",
       "      <th>3</th>\n",
       "      <td>4699a417-506d-41b8-a354-6af6ad576963</td>\n",
       "      <td>2022-05-08 18:28:03.143765</td>\n",
       "      <td>treatment</td>\n",
       "      <td>svm_ensemble_v_1_22</td>\n",
       "      <td>0</td>\n",
       "      <td>United Kingdom</td>\n",
       "      <td>42-49</td>\n",
       "      <td>registered_user</td>\n",
       "    </tr>\n",
       "    <tr>\n",
       "      <th>4</th>\n",
       "      <td>304b0d28-bcdf-401a-9dff-66230d3ba0bc</td>\n",
       "      <td>2022-05-21 01:52:26.210827</td>\n",
       "      <td>control</td>\n",
       "      <td>standard</td>\n",
       "      <td>1</td>\n",
       "      <td>United Kingdom</td>\n",
       "      <td>42-49</td>\n",
       "      <td>registered_user</td>\n",
       "    </tr>\n",
       "  </tbody>\n",
       "</table>\n",
       "</div>"
      ],
      "text/plain": [
       "                                user_id                   timestamp  \\\n",
       "0  9109b0dc-d393-497f-8d63-ba9a25dd16b4  2022-05-21 22:11:48.556739   \n",
       "1  2430c3d2-f75b-4b31-8271-51b6a76c2652  2022-05-12 08:01:45.159739   \n",
       "2  44788c4e-8dd2-4fad-b986-75e76f4adb64  2022-05-11 16:55:06.154213   \n",
       "3  4699a417-506d-41b8-a354-6af6ad576963  2022-05-08 18:28:03.143765   \n",
       "4  304b0d28-bcdf-401a-9dff-66230d3ba0bc  2022-05-21 01:52:26.210827   \n",
       "\n",
       "       group             variants  converted        location age_group  \\\n",
       "0    control             standard          0  United Kingdom     18-25   \n",
       "1    control             standard          0  United Kingdom     42-49   \n",
       "2  treatment  svm_ensemble_v_1_22          0  United Kingdom     26-33   \n",
       "3  treatment  svm_ensemble_v_1_22          0  United Kingdom     42-49   \n",
       "4    control             standard          1  United Kingdom     42-49   \n",
       "\n",
       "         user_type  \n",
       "0  registered_user  \n",
       "1  registered_user  \n",
       "2         new_user  \n",
       "3  registered_user  \n",
       "4  registered_user  "
      ]
     },
     "execution_count": 300,
     "metadata": {},
     "output_type": "execute_result"
    }
   ],
   "source": [
    "data.head()"
   ]
  },
  {
   "cell_type": "code",
   "execution_count": 301,
   "metadata": {},
   "outputs": [
    {
     "name": "stdout",
     "output_type": "stream",
     "text": [
      "<class 'pandas.core.frame.DataFrame'>\n",
      "RangeIndex: 294478 entries, 0 to 294477\n",
      "Data columns (total 8 columns):\n",
      " #   Column     Non-Null Count   Dtype \n",
      "---  ------     --------------   ----- \n",
      " 0   user_id    294478 non-null  object\n",
      " 1   timestamp  294478 non-null  object\n",
      " 2   group      294478 non-null  object\n",
      " 3   variants   294478 non-null  object\n",
      " 4   converted  294478 non-null  int64 \n",
      " 5   location   294478 non-null  object\n",
      " 6   age_group  294478 non-null  object\n",
      " 7   user_type  294478 non-null  object\n",
      "dtypes: int64(1), object(7)\n",
      "memory usage: 18.0+ MB\n"
     ]
    }
   ],
   "source": [
    "data.info()"
   ]
  },
  {
   "cell_type": "code",
   "execution_count": 302,
   "metadata": {},
   "outputs": [
    {
     "data": {
      "text/plain": [
       "user_id      object\n",
       "timestamp    object\n",
       "group        object\n",
       "variants     object\n",
       "converted     int64\n",
       "location     object\n",
       "age_group    object\n",
       "user_type    object\n",
       "dtype: object"
      ]
     },
     "execution_count": 302,
     "metadata": {},
     "output_type": "execute_result"
    }
   ],
   "source": [
    "data.dtypes"
   ]
  },
  {
   "cell_type": "code",
   "execution_count": 303,
   "metadata": {},
   "outputs": [
    {
     "data": {
      "text/plain": [
       "Index(['user_id', 'timestamp', 'group', 'variants', 'converted', 'location',\n",
       "       'age_group', 'user_type'],\n",
       "      dtype='object')"
      ]
     },
     "execution_count": 303,
     "metadata": {},
     "output_type": "execute_result"
    }
   ],
   "source": [
    "data.columns"
   ]
  },
  {
   "cell_type": "code",
   "execution_count": 304,
   "metadata": {},
   "outputs": [],
   "source": [
    "data['timestamp']=pd.to_datetime(data['timestamp'])"
   ]
  },
  {
   "cell_type": "code",
   "execution_count": 305,
   "metadata": {},
   "outputs": [
    {
     "data": {
      "text/html": [
       "<div>\n",
       "<style scoped>\n",
       "    .dataframe tbody tr th:only-of-type {\n",
       "        vertical-align: middle;\n",
       "    }\n",
       "\n",
       "    .dataframe tbody tr th {\n",
       "        vertical-align: top;\n",
       "    }\n",
       "\n",
       "    .dataframe thead th {\n",
       "        text-align: right;\n",
       "    }\n",
       "</style>\n",
       "<table border=\"1\" class=\"dataframe\">\n",
       "  <thead>\n",
       "    <tr style=\"text-align: right;\">\n",
       "      <th></th>\n",
       "      <th>count</th>\n",
       "      <th>mean</th>\n",
       "      <th>min</th>\n",
       "      <th>25%</th>\n",
       "      <th>50%</th>\n",
       "      <th>75%</th>\n",
       "      <th>max</th>\n",
       "      <th>std</th>\n",
       "    </tr>\n",
       "  </thead>\n",
       "  <tbody>\n",
       "    <tr>\n",
       "      <th>timestamp</th>\n",
       "      <td>294478</td>\n",
       "      <td>2022-05-13 13:40:10.474213120</td>\n",
       "      <td>2022-05-02 13:42:05.378582</td>\n",
       "      <td>2022-05-08 02:06:48.649925120</td>\n",
       "      <td>2022-05-13 13:21:07.016475904</td>\n",
       "      <td>2022-05-19 01:43:51.611873792</td>\n",
       "      <td>2022-05-24 13:41:54.460509</td>\n",
       "      <td>NaN</td>\n",
       "    </tr>\n",
       "    <tr>\n",
       "      <th>converted</th>\n",
       "      <td>294478.0</td>\n",
       "      <td>0.119659</td>\n",
       "      <td>0.0</td>\n",
       "      <td>0.0</td>\n",
       "      <td>0.0</td>\n",
       "      <td>0.0</td>\n",
       "      <td>1.0</td>\n",
       "      <td>0.324563</td>\n",
       "    </tr>\n",
       "  </tbody>\n",
       "</table>\n",
       "</div>"
      ],
      "text/plain": [
       "              count                           mean  \\\n",
       "timestamp    294478  2022-05-13 13:40:10.474213120   \n",
       "converted  294478.0                       0.119659   \n",
       "\n",
       "                                  min                            25%  \\\n",
       "timestamp  2022-05-02 13:42:05.378582  2022-05-08 02:06:48.649925120   \n",
       "converted                         0.0                            0.0   \n",
       "\n",
       "                                     50%                            75%  \\\n",
       "timestamp  2022-05-13 13:21:07.016475904  2022-05-19 01:43:51.611873792   \n",
       "converted                            0.0                            0.0   \n",
       "\n",
       "                                  max       std  \n",
       "timestamp  2022-05-24 13:41:54.460509       NaN  \n",
       "converted                         1.0  0.324563  "
      ]
     },
     "execution_count": 305,
     "metadata": {},
     "output_type": "execute_result"
    }
   ],
   "source": [
    "data.describe().T"
   ]
  },
  {
   "cell_type": "code",
   "execution_count": 306,
   "metadata": {},
   "outputs": [
    {
     "data": {
      "text/plain": [
       "user_id      0\n",
       "timestamp    0\n",
       "group        0\n",
       "variants     0\n",
       "converted    0\n",
       "location     0\n",
       "age_group    0\n",
       "user_type    0\n",
       "dtype: int64"
      ]
     },
     "execution_count": 306,
     "metadata": {},
     "output_type": "execute_result"
    }
   ],
   "source": [
    "data.isnull().sum()"
   ]
  },
  {
   "cell_type": "code",
   "execution_count": 329,
   "metadata": {},
   "outputs": [
    {
     "data": {
      "text/html": [
       "<div>\n",
       "<style scoped>\n",
       "    .dataframe tbody tr th:only-of-type {\n",
       "        vertical-align: middle;\n",
       "    }\n",
       "\n",
       "    .dataframe tbody tr th {\n",
       "        vertical-align: top;\n",
       "    }\n",
       "\n",
       "    .dataframe thead th {\n",
       "        text-align: right;\n",
       "    }\n",
       "</style>\n",
       "<table border=\"1\" class=\"dataframe\">\n",
       "  <thead>\n",
       "    <tr style=\"text-align: right;\">\n",
       "      <th></th>\n",
       "      <th>user_id</th>\n",
       "      <th>timestamp</th>\n",
       "      <th>group</th>\n",
       "      <th>variants</th>\n",
       "      <th>converted</th>\n",
       "      <th>location</th>\n",
       "      <th>age_group</th>\n",
       "      <th>user_type</th>\n",
       "    </tr>\n",
       "  </thead>\n",
       "  <tbody>\n",
       "  </tbody>\n",
       "</table>\n",
       "</div>"
      ],
      "text/plain": [
       "Empty DataFrame\n",
       "Columns: [user_id, timestamp, group, variants, converted, location, age_group, user_type]\n",
       "Index: []"
      ]
     },
     "execution_count": 329,
     "metadata": {},
     "output_type": "execute_result"
    }
   ],
   "source": [
    "data[(data['variants'] == 'standard') & (data['group']!='control')]"
   ]
  },
  {
   "cell_type": "code",
   "execution_count": 308,
   "metadata": {},
   "outputs": [],
   "source": [
    "data.loc[(data['variants'] == 'standard') & (data['group']!='control'),'group'] = 'control'"
   ]
  },
  {
   "cell_type": "code",
   "execution_count": 328,
   "metadata": {},
   "outputs": [
    {
     "data": {
      "text/html": [
       "<div>\n",
       "<style scoped>\n",
       "    .dataframe tbody tr th:only-of-type {\n",
       "        vertical-align: middle;\n",
       "    }\n",
       "\n",
       "    .dataframe tbody tr th {\n",
       "        vertical-align: top;\n",
       "    }\n",
       "\n",
       "    .dataframe thead th {\n",
       "        text-align: right;\n",
       "    }\n",
       "</style>\n",
       "<table border=\"1\" class=\"dataframe\">\n",
       "  <thead>\n",
       "    <tr style=\"text-align: right;\">\n",
       "      <th></th>\n",
       "      <th>user_id</th>\n",
       "      <th>timestamp</th>\n",
       "      <th>group</th>\n",
       "      <th>variants</th>\n",
       "      <th>converted</th>\n",
       "      <th>location</th>\n",
       "      <th>age_group</th>\n",
       "      <th>user_type</th>\n",
       "    </tr>\n",
       "  </thead>\n",
       "  <tbody>\n",
       "  </tbody>\n",
       "</table>\n",
       "</div>"
      ],
      "text/plain": [
       "Empty DataFrame\n",
       "Columns: [user_id, timestamp, group, variants, converted, location, age_group, user_type]\n",
       "Index: []"
      ]
     },
     "execution_count": 328,
     "metadata": {},
     "output_type": "execute_result"
    }
   ],
   "source": [
    "data[(data['variants'] == 'svm_ensemble_v_1_22')&(data['group']!='treatment')]"
   ]
  },
  {
   "cell_type": "code",
   "execution_count": 327,
   "metadata": {},
   "outputs": [],
   "source": [
    "data.loc[(data['variants'] == 'svm_ensemble_v_1_22')&(data['group']!='treatment'),'group'] = 'treatment'"
   ]
  },
  {
   "cell_type": "code",
   "execution_count": 311,
   "metadata": {},
   "outputs": [
    {
     "data": {
      "text/plain": [
       "variants           \n",
       "standard               147239\n",
       "svm_ensemble_v_1_22    147239\n",
       "Name: count, dtype: int64"
      ]
     },
     "execution_count": 311,
     "metadata": {},
     "output_type": "execute_result"
    }
   ],
   "source": [
    "data[['variants']].value_counts()"
   ]
  },
  {
   "cell_type": "code",
   "execution_count": 312,
   "metadata": {},
   "outputs": [
    {
     "data": {
      "text/plain": [
       "group    \n",
       "control      147239\n",
       "treatment    147239\n",
       "Name: count, dtype: int64"
      ]
     },
     "execution_count": 312,
     "metadata": {},
     "output_type": "execute_result"
    }
   ],
   "source": [
    "data[['group']].value_counts()"
   ]
  },
  {
   "cell_type": "code",
   "execution_count": 313,
   "metadata": {},
   "outputs": [
    {
     "data": {
      "text/plain": [
       "converted\n",
       "0    259241\n",
       "1     35237\n",
       "Name: count, dtype: int64"
      ]
     },
     "execution_count": 313,
     "metadata": {},
     "output_type": "execute_result"
    }
   ],
   "source": [
    "data['converted'].value_counts()"
   ]
  },
  {
   "cell_type": "code",
   "execution_count": 314,
   "metadata": {},
   "outputs": [
    {
     "data": {
      "text/plain": [
       "user_type\n",
       "registered_user    0.500003\n",
       "new_user           0.499997\n",
       "Name: proportion, dtype: float64"
      ]
     },
     "execution_count": 314,
     "metadata": {},
     "output_type": "execute_result"
    }
   ],
   "source": [
    "data['user_type'].value_counts(normalize=True)"
   ]
  },
  {
   "cell_type": "code",
   "execution_count": 315,
   "metadata": {},
   "outputs": [
    {
     "data": {
      "text/html": [
       "<div>\n",
       "<style scoped>\n",
       "    .dataframe tbody tr th:only-of-type {\n",
       "        vertical-align: middle;\n",
       "    }\n",
       "\n",
       "    .dataframe tbody tr th {\n",
       "        vertical-align: top;\n",
       "    }\n",
       "\n",
       "    .dataframe thead th {\n",
       "        text-align: right;\n",
       "    }\n",
       "</style>\n",
       "<table border=\"1\" class=\"dataframe\">\n",
       "  <thead>\n",
       "    <tr style=\"text-align: right;\">\n",
       "      <th></th>\n",
       "      <th></th>\n",
       "      <th>converted</th>\n",
       "    </tr>\n",
       "    <tr>\n",
       "      <th>user_type</th>\n",
       "      <th>variants</th>\n",
       "      <th></th>\n",
       "    </tr>\n",
       "  </thead>\n",
       "  <tbody>\n",
       "    <tr>\n",
       "      <th rowspan=\"2\" valign=\"top\">new_user</th>\n",
       "      <th>standard</th>\n",
       "      <td>0.121075</td>\n",
       "    </tr>\n",
       "    <tr>\n",
       "      <th>svm_ensemble_v_1_22</th>\n",
       "      <td>0.117223</td>\n",
       "    </tr>\n",
       "    <tr>\n",
       "      <th rowspan=\"2\" valign=\"top\">registered_user</th>\n",
       "      <th>standard</th>\n",
       "      <td>0.119877</td>\n",
       "    </tr>\n",
       "    <tr>\n",
       "      <th>svm_ensemble_v_1_22</th>\n",
       "      <td>0.120450</td>\n",
       "    </tr>\n",
       "  </tbody>\n",
       "</table>\n",
       "</div>"
      ],
      "text/plain": [
       "                                     converted\n",
       "user_type       variants                      \n",
       "new_user        standard              0.121075\n",
       "                svm_ensemble_v_1_22   0.117223\n",
       "registered_user standard              0.119877\n",
       "                svm_ensemble_v_1_22   0.120450"
      ]
     },
     "execution_count": 315,
     "metadata": {},
     "output_type": "execute_result"
    }
   ],
   "source": [
    "pd.pivot_table(data,index=['user_type','variants'],values='converted',aggfunc=np.mean)"
   ]
  },
  {
   "cell_type": "code",
   "execution_count": 316,
   "metadata": {},
   "outputs": [
    {
     "data": {
      "text/html": [
       "<div>\n",
       "<style scoped>\n",
       "    .dataframe tbody tr th:only-of-type {\n",
       "        vertical-align: middle;\n",
       "    }\n",
       "\n",
       "    .dataframe tbody tr th {\n",
       "        vertical-align: top;\n",
       "    }\n",
       "\n",
       "    .dataframe thead th {\n",
       "        text-align: right;\n",
       "    }\n",
       "</style>\n",
       "<table border=\"1\" class=\"dataframe\">\n",
       "  <thead>\n",
       "    <tr style=\"text-align: right;\">\n",
       "      <th></th>\n",
       "      <th>sum</th>\n",
       "      <th>mean</th>\n",
       "      <th>median</th>\n",
       "      <th>max</th>\n",
       "      <th>min</th>\n",
       "    </tr>\n",
       "    <tr>\n",
       "      <th>variants</th>\n",
       "      <th></th>\n",
       "      <th></th>\n",
       "      <th></th>\n",
       "      <th></th>\n",
       "      <th></th>\n",
       "    </tr>\n",
       "  </thead>\n",
       "  <tbody>\n",
       "    <tr>\n",
       "      <th>standard</th>\n",
       "      <td>17739</td>\n",
       "      <td>0.120478</td>\n",
       "      <td>0.0</td>\n",
       "      <td>1</td>\n",
       "      <td>0</td>\n",
       "    </tr>\n",
       "    <tr>\n",
       "      <th>svm_ensemble_v_1_22</th>\n",
       "      <td>17498</td>\n",
       "      <td>0.118841</td>\n",
       "      <td>0.0</td>\n",
       "      <td>1</td>\n",
       "      <td>0</td>\n",
       "    </tr>\n",
       "  </tbody>\n",
       "</table>\n",
       "</div>"
      ],
      "text/plain": [
       "                       sum      mean  median  max  min\n",
       "variants                                              \n",
       "standard             17739  0.120478     0.0    1    0\n",
       "svm_ensemble_v_1_22  17498  0.118841     0.0    1    0"
      ]
     },
     "execution_count": 316,
     "metadata": {},
     "output_type": "execute_result"
    }
   ],
   "source": [
    "data.groupby('variants')['converted'].agg(['sum','mean','median','max','min'])\n"
   ]
  },
  {
   "attachments": {},
   "cell_type": "markdown",
   "metadata": {},
   "source": [
    "- The data is distributed evenly between Sample A and B\n",
    "\n",
    "- The mean converted values for A - 0.12 and for B - 0.118"
   ]
  },
  {
   "cell_type": "code",
   "execution_count": 317,
   "metadata": {},
   "outputs": [
    {
     "data": {
      "text/plain": [
       "((array([-4.57741243, -4.38824339, -4.2856733 , ...,  4.2856733 ,\n",
       "          4.38824339,  4.57741243]),\n",
       "  array([0, 0, 0, ..., 1, 1, 1])),\n",
       " (0.19964378104848943, 0.11965919355605509, 0.6151064839133327))"
      ]
     },
     "execution_count": 317,
     "metadata": {},
     "output_type": "execute_result"
    },
    {
     "data": {
      "image/png": "[encoded data removed]",
      "text/plain": [
       "<Figure size 1800x500 with 1 Axes>"
      ]
     },
     "metadata": {},
     "output_type": "display_data"
    }
   ],
   "source": [
    "import pylab\n",
    "probplot(data['converted'], dist='norm', plot=pylab)"
   ]
  },
  {
   "cell_type": "code",
   "execution_count": 318,
   "metadata": {},
   "outputs": [
    {
     "data": {
      "text/plain": [
       "<Axes: >"
      ]
     },
     "execution_count": 318,
     "metadata": {},
     "output_type": "execute_result"
    },
    {
     "data": {
      "image/png": "[encoded data removed]",
      "text/plain": [
       "<Figure size 1800x500 with 1 Axes>"
      ]
     },
     "metadata": {},
     "output_type": "display_data"
    }
   ],
   "source": [
    "sns.boxplot(data['converted'])"
   ]
  },
  {
   "cell_type": "code",
   "execution_count": 319,
   "metadata": {},
   "outputs": [
    {
     "data": {
      "text/plain": [
       "<Axes: xlabel='converted', ylabel='Density'>"
      ]
     },
     "execution_count": 319,
     "metadata": {},
     "output_type": "execute_result"
    },
    {
     "data": {
      "image/png": "[encoded data removed]",
      "text/plain": [
       "<Figure size 1800x500 with 1 Axes>"
      ]
     },
     "metadata": {},
     "output_type": "display_data"
    }
   ],
   "source": [
    "sns.distplot(data['converted'])"
   ]
  },
  {
   "cell_type": "code",
   "execution_count": 321,
   "metadata": {},
   "outputs": [
    {
     "name": "stdout",
     "output_type": "stream",
     "text": [
      "Stat = 0.500, p = 0.000\n",
      "\n",
      "Probably Not Gaussian\n",
      "\n"
     ]
    }
   ],
   "source": [
    "from scipy.stats import kstest\n",
    "\n",
    "def k_stest(data):\n",
    "  stat, p = kstest(data,'norm')\n",
    "  print('Stat = %.3f, p = %.3f\\n' %(stat, p ))\n",
    "  if p >0.05:\n",
    "    print(\"Probably Gaussian\")\n",
    "  else:\n",
    "    print(\"Probably Not Gaussian\\n\")\n",
    "\n",
    "k_stest(data['converted'])"
   ]
  },
  {
   "attachments": {},
   "cell_type": "markdown",
   "metadata": {},
   "source": [
    "<b>The data takes discrete values. Statistical tests and visualization also showed a non-Gaussian distribution</b>"
   ]
  },
  {
   "cell_type": "code",
   "execution_count": 322,
   "metadata": {},
   "outputs": [
    {
     "data": {
      "image/png": "[encoded data removed]",
      "text/plain": [
       "<Figure size 1800x500 with 1 Axes>"
      ]
     },
     "metadata": {},
     "output_type": "display_data"
    }
   ],
   "source": [
    "n = 2000\n",
    "\n",
    "bootstrap_sum = pd.DataFrame([data.sample(frac=0.15, replace=True).groupby('group')['converted'].mean() for i in range(n)])\n",
    "\n",
    "bootstrap_sum.plot.kde()\n",
    "sns.set(rc={'figure.figsize':(18,5)})\n",
    "plt.title(\"KDE Plot of the converted bootstrap distributions\", fontweight=\"bold\")\n",
    "plt.xlabel(\"Converted\")\n",
    "plt.show()"
   ]
  },
  {
   "cell_type": "code",
   "execution_count": 330,
   "metadata": {},
   "outputs": [
    {
     "data": {
      "text/plain": [
       "0.286"
      ]
     },
     "execution_count": 330,
     "metadata": {},
     "output_type": "execute_result"
    }
   ],
   "source": [
    "bootstrap_sum['diff_mean'] = bootstrap_sum['treatment'] - bootstrap_sum['control']\n",
    "mean_pos_count = len(bootstrap_sum[bootstrap_sum['diff_mean'] > 0])\n",
    "p_mean_diff = mean_pos_count/n\n",
    "p_mean_diff"
   ]
  },
  {
   "cell_type": "code",
   "execution_count": 331,
   "metadata": {},
   "outputs": [
    {
     "name": "stdout",
     "output_type": "stream",
     "text": [
      "Mean of (treatment - control):\t\t -0.0017491848297594564\n",
      "Standard Error of (treatment -  control): 7.011102029591093e-05\n",
      "CI of (treatment - control):\t\t [-0.0018865999044587985, -0.0016117697550601144]\n"
     ]
    }
   ],
   "source": [
    "alpha = 0.05\n",
    "z_mean = np.mean(bootstrap_sum['treatment'])- np.mean(bootstrap_sum['control'])\n",
    "z_sigma = np.sqrt((np.var(bootstrap_sum['treatment'])/n + np.var(bootstrap_sum['control'])/n))\n",
    "print(\"Mean of (treatment - control):\\t\\t\", z_mean)\n",
    "print(\"Standard Error of (treatment -  control):\", z_sigma)\n",
    "print(\"CI of (treatment - control):\\t\\t\", [z_mean - norm.ppf(1-alpha/2)*z_sigma, z_mean + norm.ppf(1-alpha/2)*z_sigma] )"
   ]
  },
  {
   "cell_type": "code",
   "execution_count": 332,
   "metadata": {},
   "outputs": [
    {
     "data": {
      "text/plain": [
       "array([-0.00784314,  0.00447715])"
      ]
     },
     "execution_count": 332,
     "metadata": {},
     "output_type": "execute_result"
    }
   ],
   "source": [
    "np.percentile(bootstrap_sum['diff_mean'], [2.5, 97.5])"
   ]
  },
  {
   "cell_type": "code",
   "execution_count": 333,
   "metadata": {},
   "outputs": [
    {
     "data": {
      "image/png": "[encoded data removed]",
      "text/plain": [
       "<Figure size 1800x500 with 1 Axes>"
      ]
     },
     "metadata": {},
     "output_type": "display_data"
    }
   ],
   "source": [
    "counts,bins,ignored = plt.hist(bootstrap_sum['diff_mean'],50,density = True)\n",
    "plt.xlabel(\"mean difference\")\n",
    "plt.title(\"Distribution of Bootstrapped samples mean difference\")\n",
    "plt.show()"
   ]
  },
  {
   "cell_type": "code",
   "execution_count": 334,
   "metadata": {},
   "outputs": [
    {
     "data": {
      "text/plain": [
       "group\n",
       "control      12.107538\n",
       "treatment    11.722335\n",
       "Name: converted, dtype: float64"
      ]
     },
     "execution_count": 334,
     "metadata": {},
     "output_type": "execute_result"
    }
   ],
   "source": [
    "\"\"\"\n",
    "Distribution of new users by control and treatment\n",
    "\"\"\"\n",
    "data[data['user_type'] == 'new_user'].groupby('group')['converted'].sum()/data[data['user_type'] == 'new_user'].groupby('group')['converted'].count()*100"
   ]
  },
  {
   "cell_type": "code",
   "execution_count": 335,
   "metadata": {},
   "outputs": [
    {
     "data": {
      "text/plain": [
       "group\n",
       "control      11.987691\n",
       "treatment    12.045042\n",
       "Name: converted, dtype: float64"
      ]
     },
     "execution_count": 335,
     "metadata": {},
     "output_type": "execute_result"
    }
   ],
   "source": [
    "\"\"\"\n",
    "Distribution of registered_user users by control and treatment\n",
    "\"\"\"\n",
    "data[data['user_type'] == 'registered_user'].groupby('group')['converted'].sum()/data[data['user_type'] == 'registered_user'].groupby('group')['converted'].count()*100"
   ]
  },
  {
   "cell_type": "code",
   "execution_count": 336,
   "metadata": {},
   "outputs": [
    {
     "data": {
      "text/html": [
       "<div>\n",
       "<style scoped>\n",
       "    .dataframe tbody tr th:only-of-type {\n",
       "        vertical-align: middle;\n",
       "    }\n",
       "\n",
       "    .dataframe tbody tr th {\n",
       "        vertical-align: top;\n",
       "    }\n",
       "\n",
       "    .dataframe thead th {\n",
       "        text-align: right;\n",
       "    }\n",
       "</style>\n",
       "<table border=\"1\" class=\"dataframe\">\n",
       "  <thead>\n",
       "    <tr style=\"text-align: right;\">\n",
       "      <th></th>\n",
       "      <th>converted</th>\n",
       "    </tr>\n",
       "    <tr>\n",
       "      <th>group</th>\n",
       "      <th></th>\n",
       "    </tr>\n",
       "  </thead>\n",
       "  <tbody>\n",
       "    <tr>\n",
       "      <th>control</th>\n",
       "      <td>0.121075</td>\n",
       "    </tr>\n",
       "    <tr>\n",
       "      <th>treatment</th>\n",
       "      <td>0.117223</td>\n",
       "    </tr>\n",
       "  </tbody>\n",
       "</table>\n",
       "</div>"
      ],
      "text/plain": [
       "           converted\n",
       "group               \n",
       "control     0.121075\n",
       "treatment   0.117223"
      ]
     },
     "execution_count": 336,
     "metadata": {},
     "output_type": "execute_result"
    }
   ],
   "source": [
    "pd.pivot_table(data[data['user_type'] == 'new_user'],index ='group',values='converted',aggfunc = np.mean)"
   ]
  },
  {
   "cell_type": "code",
   "execution_count": 337,
   "metadata": {},
   "outputs": [
    {
     "data": {
      "text/html": [
       "<div>\n",
       "<style scoped>\n",
       "    .dataframe tbody tr th:only-of-type {\n",
       "        vertical-align: middle;\n",
       "    }\n",
       "\n",
       "    .dataframe tbody tr th {\n",
       "        vertical-align: top;\n",
       "    }\n",
       "\n",
       "    .dataframe thead th {\n",
       "        text-align: right;\n",
       "    }\n",
       "</style>\n",
       "<table border=\"1\" class=\"dataframe\">\n",
       "  <thead>\n",
       "    <tr style=\"text-align: right;\">\n",
       "      <th></th>\n",
       "      <th>converted</th>\n",
       "    </tr>\n",
       "    <tr>\n",
       "      <th>group</th>\n",
       "      <th></th>\n",
       "    </tr>\n",
       "  </thead>\n",
       "  <tbody>\n",
       "    <tr>\n",
       "      <th>control</th>\n",
       "      <td>0.119877</td>\n",
       "    </tr>\n",
       "    <tr>\n",
       "      <th>treatment</th>\n",
       "      <td>0.120450</td>\n",
       "    </tr>\n",
       "  </tbody>\n",
       "</table>\n",
       "</div>"
      ],
      "text/plain": [
       "           converted\n",
       "group               \n",
       "control     0.119877\n",
       "treatment   0.120450"
      ]
     },
     "execution_count": 337,
     "metadata": {},
     "output_type": "execute_result"
    }
   ],
   "source": [
    "pd.pivot_table(data[data['user_type'] == 'registered_user'],index ='group',values='converted',aggfunc = np.mean)"
   ]
  },
  {
   "attachments": {},
   "cell_type": "markdown",
   "metadata": {},
   "source": [
    "- For new users in control group , the value is higher than in treatment group \n",
    "- Аor registered users, on the contrary, the treatment value is better than the control value"
   ]
  },
  {
   "cell_type": "code",
   "execution_count": 338,
   "metadata": {},
   "outputs": [],
   "source": [
    "from scipy.stats import chi2_contingency\n",
    "\n",
    "def chi2_con_test(data):\n",
    "    chi2, p, dof, ex = chi2_contingency(data)\n",
    "    alpha = 0.05\n",
    "\n",
    "    print('p=%.4f , alpha=%.2f '%(p,alpha))\n",
    "    if p > alpha:\n",
    "        print('Two verisions have no significant difference')\n",
    "    else:\n",
    "        print('Two verisions have a significant difference')"
   ]
  },
  {
   "cell_type": "code",
   "execution_count": 339,
   "metadata": {},
   "outputs": [],
   "source": [
    "data_all = pd.crosstab(data['group'],data['converted'])\n",
    "data_new = pd.crosstab(data[data['user_type'] == 'new_user']['group'],data[data['user_type'] == 'new_user']['converted'])\n",
    "data_registered = pd.crosstab(data[data['user_type'] == 'registered_user']['group'],data[data['user_type'] == 'registered_user']['converted'])"
   ]
  },
  {
   "cell_type": "code",
   "execution_count": 340,
   "metadata": {},
   "outputs": [
    {
     "name": "stdout",
     "output_type": "stream",
     "text": [
      "For all users\n",
      "p=0.1730 , alpha=0.05 \n",
      "Two verisions have no significant difference\n",
      "\n",
      "For new users\n",
      "p=0.0230 , alpha=0.05 \n",
      "Two verisions have a significant difference\n",
      "\n",
      "For registered users\n",
      "p=0.7411 , alpha=0.05 \n",
      "Two verisions have no significant difference\n"
     ]
    }
   ],
   "source": [
    "print('For all users')\n",
    "chi2_con_test(data_all)\n",
    "\n",
    "print('\\nFor new users')\n",
    "chi2_con_test(data_new)\n",
    "\n",
    "print('\\nFor registered users')\n",
    "chi2_con_test(data_registered)"
   ]
  },
  {
   "attachments": {},
   "cell_type": "markdown",
   "metadata": {},
   "source": [
    "- Both variants have no statistical significance for all users and for registered users\n",
    "- Both variants have statistical significance for new users. In the treatment options, the value has worsened and the changes have had a negative effect. It is necessary to eliminate the changes and revert to the previous version."
   ]
  }
 ],
 "metadata": {
  "kernelspec": {
   "display_name": "Python 3",
   "language": "python",
   "name": "python3"
  },
  "language_info": {
   "codemirror_mode": {
    "name": "ipython",
    "version": 3
   },
   "file_extension": ".py",
   "mimetype": "text/x-python",
   "name": "python",
   "nbconvert_exporter": "python",
   "pygments_lexer": "ipython3",
   "version": "3.10.6"
  }
 },
 "nbformat": 4,
 "nbformat_minor": 0
}
